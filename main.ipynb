{
 "cells": [
  {
   "metadata": {
    "ExecuteTime": {
     "end_time": "2024-11-26T21:18:07.602404Z",
     "start_time": "2024-11-26T21:18:05.534562Z"
    }
   },
   "cell_type": "code",
   "source": "%run iac.py",
   "id": "9e11b1e918674a0c",
   "outputs": [
    {
     "name": "stdout",
     "output_type": "stream",
     "text": [
      "IAM Role myRedshiftRole does not exist.\n",
      "IAM Role myRedshiftRole created.\n",
      "Redshift cluster 'redshift-cluster' already exists.\n",
      "Waiting for Redshift cluster to be available...\n",
      "Cluster 'redshift-cluster' is now available at redshift-cluster.cvkdtpgzlapv.us-west-2.redshift.amazonaws.com.\n",
      "Configuration exported to dwh.cfg.\n"
     ]
    }
   ],
   "execution_count": 2
  },
  {
   "metadata": {
    "ExecuteTime": {
     "end_time": "2024-11-26T21:26:21.491052Z",
     "start_time": "2024-11-26T21:26:11.367679Z"
    }
   },
   "cell_type": "code",
   "source": "%run create_tables.py",
   "id": "5cb41ee34d05b266",
   "outputs": [
    {
     "name": "stdout",
     "output_type": "stream",
     "text": [
      "Connecting to the database...\n",
      "Connection established successfully.\n",
      "Starting to drop tables...\n",
      "Dropping table: stage_event (1/7)...\n",
      "Table stage_event dropped successfully.\n",
      "Dropping table: stage_song (2/7)...\n",
      "Table stage_song dropped successfully.\n",
      "Dropping table: songplays (3/7)...\n",
      "Table songplays dropped successfully.\n",
      "Dropping table: users (4/7)...\n",
      "Table users dropped successfully.\n",
      "Dropping table: songs (5/7)...\n",
      "Table songs dropped successfully.\n",
      "Dropping table: artists (6/7)...\n",
      "Table artists dropped successfully.\n",
      "Dropping table: time (7/7)...\n",
      "Table time dropped successfully.\n",
      "All drop table operations completed.\n",
      "Starting to create tables...\n",
      "Creating table: stage_event (1/7)...\n",
      "Table stage_event created successfully.\n",
      "Creating table: stage_song (2/7)...\n",
      "Table stage_song created successfully.\n",
      "Creating table: songplays (3/7)...\n",
      "Table songplays created successfully.\n",
      "Creating table: users (4/7)...\n",
      "Table users created successfully.\n",
      "Creating table: songs (5/7)...\n",
      "Table songs created successfully.\n",
      "Creating table: artists (6/7)...\n",
      "Table artists created successfully.\n",
      "Creating table: time (7/7)...\n",
      "Table time created successfully.\n",
      "All create table operations completed.\n",
      "Database connection closed.\n"
     ]
    }
   ],
   "execution_count": 9
  },
  {
   "metadata": {
    "ExecuteTime": {
     "end_time": "2024-11-26T21:30:40.326248Z",
     "start_time": "2024-11-26T21:26:38.377661Z"
    }
   },
   "cell_type": "code",
   "source": "%run etl.py",
   "id": "7c9179067469b362",
   "outputs": [
    {
     "name": "stdout",
     "output_type": "stream",
     "text": [
      "Running...\n",
      "Connection to Redshift established successfully.\n",
      "\n",
      "Starting to load staging tables...\n",
      "Executing COPY query 1/2...\n",
      "COPY query 1/2 executed successfully.\n",
      "Executing COPY query 2/2...\n",
      "COPY query 2/2 executed successfully.\n",
      "\n",
      "Starting to insert data into final tables...\n",
      "Executing INSERT query 1/5...\n",
      "INSERT query 1/5 executed successfully.\n",
      "Executing INSERT query 2/5...\n",
      "INSERT query 2/5 executed successfully.\n",
      "Executing INSERT query 3/5...\n",
      "INSERT query 3/5 executed successfully.\n",
      "Executing INSERT query 4/5...\n",
      "INSERT query 4/5 executed successfully.\n",
      "Executing INSERT query 5/5...\n",
      "INSERT query 5/5 executed successfully.\n",
      "ETL process complete.\n"
     ]
    }
   ],
   "execution_count": 11
  },
  {
   "metadata": {
    "ExecuteTime": {
     "end_time": "2024-11-26T21:33:42.846958Z",
     "start_time": "2024-11-26T21:33:40.479443Z"
    }
   },
   "cell_type": "code",
   "source": [
    "import pandas as pd\n",
    "import psycopg2\n",
    "import configparser\n",
    "# Read DWH config\n",
    "config_conn = configparser.ConfigParser()\n",
    "config_conn.read('dwh.cfg')\n",
    "# Run a query\n",
    "\n",
    "query = ('''\n",
    "SELECT * \n",
    "FROM artists\n",
    "LIMIT 10\n",
    "''')\n",
    "\n",
    "conn = psycopg2.connect(\"host={} dbname={} user={} password={} port={}\".format(*config_conn['CLUSTER'].values()))\n",
    "df = pd.read_sql_query(query, conn)\n",
    "conn.close()\n",
    "\n",
    "df"
   ],
   "id": "3da1bd5ebb69d3fe",
   "outputs": [
    {
     "name": "stderr",
     "output_type": "stream",
     "text": [
      "/var/folders/0x/sytm1cbx2jn3ngxj6wfwv79m0000gn/T/ipykernel_71025/3323130156.py:16: UserWarning: pandas only supports SQLAlchemy connectable (engine/connection) or database string URI or sqlite3 DBAPI2 connection. Other DBAPI2 objects are not tested. Please consider using SQLAlchemy.\n",
      "  df = pd.read_sql_query(query, conn)\n"
     ]
    },
    {
     "data": {
      "text/plain": [
       "            artist_id                name               location  latitude  \\\n",
       "0  AR00B1I1187FB433EB    Eagle-Eye Cherry      Stockholm, Sweden       NaN   \n",
       "1  AR00DG71187B9B7FCB   Basslovers United                              NaN   \n",
       "2  AR00FVC1187FB5BE3E               Panda  Monterrey, NL, México   25.6708   \n",
       "3  AR00JIO1187B9A5A15              Saigon               Brooklyn   40.6551   \n",
       "4  AR00LNI1187FB444A5        Bruce BecVar                              NaN   \n",
       "5  AR00MQ31187B9ACD8F       Chris Carrier                              NaN   \n",
       "6  AR00TGQ1187B994F29        Paula Toller                              NaN   \n",
       "7  AR00Y9I1187B999412           Akercocke                              NaN   \n",
       "8  AR00YYQ1187FB504DC  God Is My Co-Pilot           New York, NY   40.7146   \n",
       "9  AR016P51187B98E398      Indian Ropeman                              NaN   \n",
       "\n",
       "   longitude  \n",
       "0        NaN  \n",
       "1        NaN  \n",
       "2  -100.3100  \n",
       "3   -73.9489  \n",
       "4        NaN  \n",
       "5        NaN  \n",
       "6        NaN  \n",
       "7        NaN  \n",
       "8   -74.0071  \n",
       "9        NaN  "
      ],
      "text/html": [
       "<div>\n",
       "<style scoped>\n",
       "    .dataframe tbody tr th:only-of-type {\n",
       "        vertical-align: middle;\n",
       "    }\n",
       "\n",
       "    .dataframe tbody tr th {\n",
       "        vertical-align: top;\n",
       "    }\n",
       "\n",
       "    .dataframe thead th {\n",
       "        text-align: right;\n",
       "    }\n",
       "</style>\n",
       "<table border=\"1\" class=\"dataframe\">\n",
       "  <thead>\n",
       "    <tr style=\"text-align: right;\">\n",
       "      <th></th>\n",
       "      <th>artist_id</th>\n",
       "      <th>name</th>\n",
       "      <th>location</th>\n",
       "      <th>latitude</th>\n",
       "      <th>longitude</th>\n",
       "    </tr>\n",
       "  </thead>\n",
       "  <tbody>\n",
       "    <tr>\n",
       "      <th>0</th>\n",
       "      <td>AR00B1I1187FB433EB</td>\n",
       "      <td>Eagle-Eye Cherry</td>\n",
       "      <td>Stockholm, Sweden</td>\n",
       "      <td>NaN</td>\n",
       "      <td>NaN</td>\n",
       "    </tr>\n",
       "    <tr>\n",
       "      <th>1</th>\n",
       "      <td>AR00DG71187B9B7FCB</td>\n",
       "      <td>Basslovers United</td>\n",
       "      <td></td>\n",
       "      <td>NaN</td>\n",
       "      <td>NaN</td>\n",
       "    </tr>\n",
       "    <tr>\n",
       "      <th>2</th>\n",
       "      <td>AR00FVC1187FB5BE3E</td>\n",
       "      <td>Panda</td>\n",
       "      <td>Monterrey, NL, México</td>\n",
       "      <td>25.6708</td>\n",
       "      <td>-100.3100</td>\n",
       "    </tr>\n",
       "    <tr>\n",
       "      <th>3</th>\n",
       "      <td>AR00JIO1187B9A5A15</td>\n",
       "      <td>Saigon</td>\n",
       "      <td>Brooklyn</td>\n",
       "      <td>40.6551</td>\n",
       "      <td>-73.9489</td>\n",
       "    </tr>\n",
       "    <tr>\n",
       "      <th>4</th>\n",
       "      <td>AR00LNI1187FB444A5</td>\n",
       "      <td>Bruce BecVar</td>\n",
       "      <td></td>\n",
       "      <td>NaN</td>\n",
       "      <td>NaN</td>\n",
       "    </tr>\n",
       "    <tr>\n",
       "      <th>5</th>\n",
       "      <td>AR00MQ31187B9ACD8F</td>\n",
       "      <td>Chris Carrier</td>\n",
       "      <td></td>\n",
       "      <td>NaN</td>\n",
       "      <td>NaN</td>\n",
       "    </tr>\n",
       "    <tr>\n",
       "      <th>6</th>\n",
       "      <td>AR00TGQ1187B994F29</td>\n",
       "      <td>Paula Toller</td>\n",
       "      <td></td>\n",
       "      <td>NaN</td>\n",
       "      <td>NaN</td>\n",
       "    </tr>\n",
       "    <tr>\n",
       "      <th>7</th>\n",
       "      <td>AR00Y9I1187B999412</td>\n",
       "      <td>Akercocke</td>\n",
       "      <td></td>\n",
       "      <td>NaN</td>\n",
       "      <td>NaN</td>\n",
       "    </tr>\n",
       "    <tr>\n",
       "      <th>8</th>\n",
       "      <td>AR00YYQ1187FB504DC</td>\n",
       "      <td>God Is My Co-Pilot</td>\n",
       "      <td>New York, NY</td>\n",
       "      <td>40.7146</td>\n",
       "      <td>-74.0071</td>\n",
       "    </tr>\n",
       "    <tr>\n",
       "      <th>9</th>\n",
       "      <td>AR016P51187B98E398</td>\n",
       "      <td>Indian Ropeman</td>\n",
       "      <td></td>\n",
       "      <td>NaN</td>\n",
       "      <td>NaN</td>\n",
       "    </tr>\n",
       "  </tbody>\n",
       "</table>\n",
       "</div>"
      ]
     },
     "execution_count": 12,
     "metadata": {},
     "output_type": "execute_result"
    }
   ],
   "execution_count": 12
  },
  {
   "metadata": {},
   "cell_type": "markdown",
   "source": "# Caution: This function will close the Redshift cluster.",
   "id": "807dc40e0a2c1422"
  },
  {
   "metadata": {
    "ExecuteTime": {
     "end_time": "2024-11-26T21:33:49.294621Z",
     "start_time": "2024-11-26T21:33:47.967353Z"
    }
   },
   "cell_type": "code",
   "source": "%run close.py",
   "id": "initial_id",
   "outputs": [
    {
     "name": "stdout",
     "output_type": "stream",
     "text": [
      "Cluster identifier is not provided in the configuration.\n",
      "Detaching policies from IAM Role: myRedshiftRole\n",
      "Detached policy arn:aws:iam::aws:policy/AmazonS3ReadOnlyAccess from role myRedshiftRole\n",
      "Deleting IAM Role: myRedshiftRole\n",
      "IAM Role myRedshiftRole deleted successfully.\n",
      "Error deleting bucket: An error occurred (NoSuchBucket) when calling the ListObjectsV2 operation: The specified bucket does not exist\n"
     ]
    }
   ],
   "execution_count": 13
  },
  {
   "metadata": {},
   "cell_type": "code",
   "outputs": [],
   "execution_count": null,
   "source": "",
   "id": "559eba529c625c8b"
  }
 ],
 "metadata": {
  "kernelspec": {
   "display_name": "Python 3",
   "language": "python",
   "name": "python3"
  },
  "language_info": {
   "codemirror_mode": {
    "name": "ipython",
    "version": 2
   },
   "file_extension": ".py",
   "mimetype": "text/x-python",
   "name": "python",
   "nbconvert_exporter": "python",
   "pygments_lexer": "ipython2",
   "version": "2.7.6"
  }
 },
 "nbformat": 4,
 "nbformat_minor": 5
}
